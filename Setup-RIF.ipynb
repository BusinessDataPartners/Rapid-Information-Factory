{
 "cells": [
  {
   "cell_type": "code",
   "execution_count": 1,
   "metadata": {},
   "outputs": [],
   "source": [
    "import os"
   ]
  },
  {
   "cell_type": "markdown",
   "metadata": {},
   "source": [
    "tops = ['./RIF/', './Data-Lake/']\n",
    "for top in tops:\n",
    "    if os.path.exists(top):\n",
    "        for root, dirs, files in os.walk(top, topdown=False):\n",
    "            for name in files:\n",
    "                os.remove(os.path.join(root, name))\n",
    "            for name in dirs:\n",
    "                os.rmdir(os.path.join(root, name))\n",
    "        os.rmdir(top)"
   ]
  },
  {
   "cell_type": "code",
   "execution_count": 2,
   "metadata": {},
   "outputs": [],
   "source": [
    "dirRIFnames=[\n",
    "    './RIF/01-Business-Layer/',\n",
    "    './RIF/02-Audit-Balance-Control-Layer/',\n",
    "    './RIF/03-Operational-Management-Layer/',\n",
    "    './RIF/04-Utility-Layer/',\n",
    "    './RIF/05-Functional-Layer/01-Retrieve-Step/',\n",
    "    './RIF/05-Functional-Layer/02-Assess-Step/',\n",
    "    './RIF/05-Functional-Layer/03-Process-Step/',\n",
    "    './RIF/05-Functional-Layer/04-Transform-Step/',\n",
    "    './RIF/05-Functional-Layer/05-Organise-Step/',\n",
    "    './RIF/05-Functional-Layer/06-Report-Step/'\n",
    "]\n",
    "for dirname in dirRIFnames:\n",
    "    if not os.path.exists(dirname):\n",
    "        os.makedirs(dirname)"
   ]
  },
  {
   "cell_type": "code",
   "execution_count": 3,
   "metadata": {},
   "outputs": [],
   "source": [
    "dirDLnames=[\n",
    "    './Data-Lake/01-Workspace-Zone/',\n",
    "    './Data-Lake/02-Raw-Zone/',\n",
    "    './Data-Lake/03-Structured-Zone/',\n",
    "    './Data-Lake/04-Curated-Zone/',\n",
    "    './Data-Lake/05-Consumer-Zone/',\n",
    "    './Data-Lake/06-Analytics Zone/',\n",
    "]\n",
    "for dirname in dirDLnames:\n",
    "    if not os.path.exists(dirname):\n",
    "        os.makedirs(dirname)"
   ]
  }
 ],
 "metadata": {
  "kernelspec": {
   "display_name": "Python 3",
   "language": "python",
   "name": "python3"
  },
  "language_info": {
   "codemirror_mode": {
    "name": "ipython",
    "version": 3
   },
   "file_extension": ".py",
   "mimetype": "text/x-python",
   "name": "python",
   "nbconvert_exporter": "python",
   "pygments_lexer": "ipython3",
   "version": "3.7.0"
  }
 },
 "nbformat": 4,
 "nbformat_minor": 2
}
