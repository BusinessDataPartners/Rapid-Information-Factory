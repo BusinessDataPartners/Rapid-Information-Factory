{
 "cells": [
  {
   "cell_type": "code",
   "execution_count": null,
   "metadata": {},
   "outputs": [],
   "source": [
    "import os"
   ]
  },
  {
   "cell_type": "code",
   "execution_count": null,
   "metadata": {},
   "outputs": [],
   "source": [
    "rawDir = '../../../Data-Lake/02-Raw-Zone/uk-housing'\n",
    "structDir = '../../../Data-Lake/03-Structured-Zone/uk-housing'"
   ]
  },
  {
   "cell_type": "code",
   "execution_count": null,
   "metadata": {},
   "outputs": [],
   "source": [
    "if not os.path.exists(structDir):\n",
    "    os.makedirs(structDir)"
   ]
  },
  {
   "cell_type": "code",
   "execution_count": null,
   "metadata": {},
   "outputs": [],
   "source": [
    "import pandas as pd"
   ]
  },
  {
   "cell_type": "code",
   "execution_count": null,
   "metadata": {},
   "outputs": [],
   "source": [
    "def readDF(rawDir, filename):\n",
    "    fileFullName = os.path.join(rawDir,filename)\n",
    "    df = pd.read_csv(fileFullName,header=0)\n",
    "    df2=df[['3','2','1','1']].copy(deep=True)\n",
    "    df2.columns = ['postcode','date','price','Outstanding']\n",
    "    return df2"
   ]
  },
  {
   "cell_type": "code",
   "execution_count": null,
   "metadata": {},
   "outputs": [],
   "source": [
    "from mortgage import Loan\n",
    "import math as m\n",
    "from datetime import datetime as dt \n",
    "import datetime as d\n",
    "from dateutil import relativedelta"
   ]
  },
  {
   "cell_type": "code",
   "execution_count": null,
   "metadata": {},
   "outputs": [],
   "source": [
    "def calculate_outstanding(row):\n",
    "    p = m.floor(row['price'])\n",
    "    loan = Loan(principal=p, interest=0.05, term=25)\n",
    "    datenow = str(d.date.today().strftime(\"%Y-%m-%d\"))\n",
    "    dbuy=str(row['date'])\n",
    "    date1 = dt.strptime(dbuy, '%Y-%m-%d %H:%M')\n",
    "    date2 = dt.strptime(datenow, '%Y-%m-%d')\n",
    "    r = relativedelta.relativedelta(date2, date1)\n",
    "    v = loan.total_paid - (loan.monthly_payment * ((r.years * 12) + r.months))\n",
    "    if v < 0:\n",
    "        v = 0\n",
    "    return v"
   ]
  },
  {
   "cell_type": "code",
   "execution_count": null,
   "metadata": {},
   "outputs": [],
   "source": [
    "for dirName, subdirList, fileList in os.walk(rawDir):\n",
    "    print('Found directory: %s' % dirName)\n",
    "    for fname in fileList:\n",
    "        filename, file_extension = os.path.splitext(fname)\n",
    "        if filename[:3] == 'pp-':\n",
    "            print('>>', filename)\n",
    "            df = readDF(rawDir, fname)\n",
    "            df.loc[df.index.tolist(),'Outstanding'] = df.apply(calculate_outstanding, axis=1)\n",
    "            filestructname = os.path.join(structDir,fname)\n",
    "            df.to_csv(filestructname, header=True)"
   ]
  },
  {
   "cell_type": "code",
   "execution_count": null,
   "metadata": {},
   "outputs": [],
   "source": []
  }
 ],
 "metadata": {
  "kernelspec": {
   "display_name": "Python 3",
   "language": "python",
   "name": "python3"
  },
  "language_info": {
   "codemirror_mode": {
    "name": "ipython",
    "version": 3
   },
   "file_extension": ".py",
   "mimetype": "text/x-python",
   "name": "python",
   "nbconvert_exporter": "python",
   "pygments_lexer": "ipython3",
   "version": "3.6.8"
  }
 },
 "nbformat": 4,
 "nbformat_minor": 2
}
